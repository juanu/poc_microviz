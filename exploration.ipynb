{
 "cells": [
  {
   "cell_type": "code",
   "execution_count": 72,
   "metadata": {},
   "outputs": [],
   "source": [
    "import pandas as pd"
   ]
  },
  {
   "cell_type": "code",
   "execution_count": 89,
   "metadata": {},
   "outputs": [],
   "source": [
    "phylum = pd.read_csv(\"data/phylum.csv\")\n",
    "#phylum.drop(columns=[\"Kingdom\"], inplace=True)\n",
    "#phylum = phylum.transpose()\n",
    "#phylum = phylum.set_index(\"Phylum\").T.rename_axis(\"Muestra\").reset_index().set_index(\"Muestra\")"
   ]
  },
  {
   "cell_type": "code",
   "execution_count": 94,
   "metadata": {},
   "outputs": [
    {
     "data": {
      "text/html": [
       "<div>\n",
       "<style scoped>\n",
       "    .dataframe tbody tr th:only-of-type {\n",
       "        vertical-align: middle;\n",
       "    }\n",
       "\n",
       "    .dataframe tbody tr th {\n",
       "        vertical-align: top;\n",
       "    }\n",
       "\n",
       "    .dataframe thead th {\n",
       "        text-align: right;\n",
       "    }\n",
       "</style>\n",
       "<table border=\"1\" class=\"dataframe\">\n",
       "  <thead>\n",
       "    <tr style=\"text-align: right;\">\n",
       "      <th></th>\n",
       "      <th>Crenarchaeota</th>\n",
       "      <th>Euryarchaeota</th>\n",
       "      <th>Halobacterota</th>\n",
       "      <th>Thermoplasmatota</th>\n",
       "      <th>Abditibacteriota</th>\n",
       "      <th>Acidobacteriota</th>\n",
       "      <th>Actinobacteriota</th>\n",
       "      <th>Armatimonadota</th>\n",
       "      <th>Bacteroidota</th>\n",
       "      <th>Bdellovibrionota</th>\n",
       "      <th>...</th>\n",
       "      <th>Patescibacteria</th>\n",
       "      <th>Planctomycetota</th>\n",
       "      <th>Proteobacteria</th>\n",
       "      <th>RCP2-54</th>\n",
       "      <th>SAR324 clade(Marine group B)</th>\n",
       "      <th>Spirochaetota</th>\n",
       "      <th>Sumerlaeota</th>\n",
       "      <th>Synergistota</th>\n",
       "      <th>Verrucomicrobiota</th>\n",
       "      <th>WPS-2</th>\n",
       "    </tr>\n",
       "    <tr>\n",
       "      <th>Sample</th>\n",
       "      <th></th>\n",
       "      <th></th>\n",
       "      <th></th>\n",
       "      <th></th>\n",
       "      <th></th>\n",
       "      <th></th>\n",
       "      <th></th>\n",
       "      <th></th>\n",
       "      <th></th>\n",
       "      <th></th>\n",
       "      <th></th>\n",
       "      <th></th>\n",
       "      <th></th>\n",
       "      <th></th>\n",
       "      <th></th>\n",
       "      <th></th>\n",
       "      <th></th>\n",
       "      <th></th>\n",
       "      <th></th>\n",
       "      <th></th>\n",
       "      <th></th>\n",
       "    </tr>\n",
       "  </thead>\n",
       "  <tbody>\n",
       "    <tr>\n",
       "      <th>S1</th>\n",
       "      <td>0.0</td>\n",
       "      <td>0</td>\n",
       "      <td>0</td>\n",
       "      <td>0</td>\n",
       "      <td>0</td>\n",
       "      <td>0.0</td>\n",
       "      <td>0.26082</td>\n",
       "      <td>0</td>\n",
       "      <td>0.065205</td>\n",
       "      <td>0.0</td>\n",
       "      <td>...</td>\n",
       "      <td>0.0</td>\n",
       "      <td>0.0</td>\n",
       "      <td>0.431983</td>\n",
       "      <td>0</td>\n",
       "      <td>0</td>\n",
       "      <td>0</td>\n",
       "      <td>0</td>\n",
       "      <td>0</td>\n",
       "      <td>0.016301</td>\n",
       "      <td>0</td>\n",
       "    </tr>\n",
       "  </tbody>\n",
       "</table>\n",
       "<p>1 rows × 36 columns</p>\n",
       "</div>"
      ],
      "text/plain": [
       "        Crenarchaeota  Euryarchaeota  Halobacterota  Thermoplasmatota  \\\n",
       "Sample                                                                  \n",
       "S1                0.0              0              0                 0   \n",
       "\n",
       "        Abditibacteriota  Acidobacteriota  Actinobacteriota  Armatimonadota  \\\n",
       "Sample                                                                        \n",
       "S1                     0              0.0           0.26082               0   \n",
       "\n",
       "        Bacteroidota  Bdellovibrionota  ...  Patescibacteria  Planctomycetota  \\\n",
       "Sample                                  ...                                     \n",
       "S1          0.065205               0.0  ...              0.0              0.0   \n",
       "\n",
       "        Proteobacteria  RCP2-54  SAR324 clade(Marine group B)  Spirochaetota  \\\n",
       "Sample                                                                         \n",
       "S1            0.431983        0                             0              0   \n",
       "\n",
       "        Sumerlaeota  Synergistota  Verrucomicrobiota  WPS-2  \n",
       "Sample                                                       \n",
       "S1                0             0           0.016301      0  \n",
       "\n",
       "[1 rows x 36 columns]"
      ]
     },
     "execution_count": 94,
     "metadata": {},
     "output_type": "execute_result"
    }
   ],
   "source": [
    "phylum.loc[[\"S1\"]]"
   ]
  },
  {
   "cell_type": "code",
   "execution_count": null,
   "metadata": {},
   "outputs": [],
   "source": []
  }
 ],
 "metadata": {
  "kernelspec": {
   "display_name": "Python 3.9.7 ('base')",
   "language": "python",
   "name": "python3"
  },
  "language_info": {
   "codemirror_mode": {
    "name": "ipython",
    "version": 3
   },
   "file_extension": ".py",
   "mimetype": "text/x-python",
   "name": "python",
   "nbconvert_exporter": "python",
   "pygments_lexer": "ipython3",
   "version": "3.9.7"
  },
  "orig_nbformat": 4,
  "vscode": {
   "interpreter": {
    "hash": "40d3a090f54c6569ab1632332b64b2c03c39dcf918b08424e98f38b5ae0af88f"
   }
  }
 },
 "nbformat": 4,
 "nbformat_minor": 2
}
